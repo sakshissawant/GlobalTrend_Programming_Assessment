{
 "cells": [
  {
   "cell_type": "code",
   "execution_count": 99,
   "id": "a48f7e6a",
   "metadata": {},
   "outputs": [
    {
     "name": "stdout",
     "output_type": "stream",
     "text": [
      "[10, 12, 16, 1, 7, 9]\n",
      "[10, 16, 1, 7, 9]\n",
      "16\n"
     ]
    }
   ],
   "source": [
    "class MaxHeap:\n",
    "    List = []\n",
    "\n",
    "    def insert(number):\n",
    "        MaxHeap.List.append(number)\n",
    "        \n",
    "    def delete(number):\n",
    "        MaxHeap.List.remove(number)\n",
    "        \n",
    "    def get_max():\n",
    "        Max = 0\n",
    "        for i in MaxHeap.List:\n",
    "            if i>Max:\n",
    "                Max = i\n",
    "        return Max\n",
    "    \n",
    "    \n",
    "MaxHeap.insert(10)\n",
    "MaxHeap.insert(12)\n",
    "MaxHeap.insert(16)\n",
    "MaxHeap.insert(1)\n",
    "MaxHeap.insert(7)\n",
    "MaxHeap.insert(9)\n",
    "print(MaxHeap.List)\n",
    "MaxHeap.delete(12)\n",
    "print(MaxHeap.List)\n",
    "print(MaxHeap.get_max())\n",
    "\n"
   ]
  },
  {
   "cell_type": "code",
   "execution_count": 100,
   "id": "29e4f73f",
   "metadata": {},
   "outputs": [
    {
     "name": "stdout",
     "output_type": "stream",
     "text": [
      "144\n"
     ]
    }
   ],
   "source": [
    "def get_fibonacci(n):\n",
    "    Sum = 1\n",
    "    series = [1]\n",
    "    for i in range(n):\n",
    "        series.append(Sum)\n",
    "        Sum+=series[i]\n",
    "    return Sum   \n",
    "\n",
    "print(get_fibonacci(10))"
   ]
  },
  {
   "cell_type": "code",
   "execution_count": 101,
   "id": "ab2cff3a",
   "metadata": {},
   "outputs": [
    {
     "name": "stdout",
     "output_type": "stream",
     "text": [
      "2.0\n"
     ]
    }
   ],
   "source": [
    "def division(dividend, divisor):\n",
    "    if divisor == 0:\n",
    "        return \"Cannot divide by zero!\"\n",
    "    else:\n",
    "        return dividend/divisor\n",
    "    \n",
    "print(division(10,5))"
   ]
  },
  {
   "cell_type": "code",
   "execution_count": 104,
   "id": "33852111",
   "metadata": {},
   "outputs": [
    {
     "name": "stdout",
     "output_type": "stream",
     "text": [
      "120\n",
      "not a correct operator\n"
     ]
    }
   ],
   "source": [
    "def calculator(num1,operation,num2):\n",
    "    if operation == \"+\":\n",
    "        return num1+num2\n",
    "    elif operation == \"-\":\n",
    "        return num1-num2\n",
    "    elif operation == \"*\":\n",
    "        return num1*num2\n",
    "    elif operation == \"/\":\n",
    "        return num1/num2\n",
    "    else:\n",
    "        return \"not a correct operator\"\n",
    "\n",
    "        \n",
    "print(calculator(40,\"*\",3))\n",
    "print(calculator(20,\"&\",4))"
   ]
  },
  {
   "cell_type": "code",
   "execution_count": 105,
   "id": "e0a2812a",
   "metadata": {},
   "outputs": [
    {
     "name": "stdout",
     "output_type": "stream",
     "text": [
      "'!0rG-MA/X*.$bKEI7\n",
      "2oq9\"75m-bF+K#Q/zU8c\n",
      "m$BIsF+'8F\"QR\n",
      "JH&J65/PG+pc9/q\n",
      "H)F4k65!Cg3(8/\n",
      "III35(S-$.0\n"
     ]
    }
   ],
   "source": [
    "import random as rd\n",
    "\n",
    "def random_password_generator():\n",
    "    length = rd.randint(8,20)\n",
    "    password = []\n",
    "    Final = \"\"\n",
    "    Choice = [\"Uppercase\",\"Lowercase\",\"numbers\",\"special characters\"]\n",
    "    for i in range(length):\n",
    "        choice = rd.choice(Choice)\n",
    "        if choice == \"Uppercase\":\n",
    "            password.append(chr(rd.randint(65,90)))\n",
    "        elif choice == \"Lowercase\":\n",
    "            password.append(chr(rd.randint(97,122)))\n",
    "        elif choice == \"numbers\":\n",
    "            password.append(chr(rd.randint(48,57)))\n",
    "        else:\n",
    "            password.append(chr(rd.randint(33,47)) or chr(rd.randint(58,64)) or chr(rd.randint(91,96)) or chr(rd.randint(123,126)))\n",
    "    for j in password:\n",
    "        Final+=j\n",
    "    return Final\n",
    "\n",
    "print(random_password_generator())\n",
    "print(random_password_generator())\n",
    "print(random_password_generator())\n",
    "print(random_password_generator())\n",
    "print(random_password_generator())\n",
    "print(random_password_generator())"
   ]
  },
  {
   "cell_type": "code",
   "execution_count": 107,
   "id": "69c335d0",
   "metadata": {},
   "outputs": [
    {
     "name": "stdout",
     "output_type": "stream",
     "text": [
      "[[1 2 3]\n",
      " [4 5 6]]\n",
      "[[1 4]\n",
      " [2 5]\n",
      " [3 6]]\n"
     ]
    }
   ],
   "source": [
    "import numpy as np\n",
    "\n",
    "def transpose(matrix):\n",
    "    new_matrix = []\n",
    "    for i in range(matrix.shape[1]):\n",
    "        for j in range(matrix.shape[0]):\n",
    "            new_matrix.append(matrix[j][i])\n",
    "    Final = np.array(new_matrix)\n",
    "    Final = Final.reshape(matrix.shape[1],matrix.shape[0])\n",
    "    return Final\n",
    "\n",
    "original_matrix = np.array([[1,2,3],[4,5,6]])\n",
    "Transposed_matrix = transpose(original_matrix)\n",
    "print(original_matrix)\n",
    "print(Transposed_matrix)"
   ]
  },
  {
   "cell_type": "code",
   "execution_count": 90,
   "id": "3a57d34f",
   "metadata": {},
   "outputs": [],
   "source": [
    "import webbrowser\n",
    "\n",
    "def download(urls):\n",
    "    for k in urls:\n",
    "        try:\n",
    "            for i in range(3):\n",
    "                if webbrowser.open(k):\n",
    "                    break\n",
    "        except:\n",
    "            \"Could not download!\"\n",
    "    "
   ]
  }
 ],
 "metadata": {
  "kernelspec": {
   "display_name": "Python 3 (ipykernel)",
   "language": "python",
   "name": "python3"
  },
  "language_info": {
   "codemirror_mode": {
    "name": "ipython",
    "version": 3
   },
   "file_extension": ".py",
   "mimetype": "text/x-python",
   "name": "python",
   "nbconvert_exporter": "python",
   "pygments_lexer": "ipython3",
   "version": "3.9.12"
  }
 },
 "nbformat": 4,
 "nbformat_minor": 5
}
