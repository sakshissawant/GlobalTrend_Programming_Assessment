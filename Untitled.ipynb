{
 "cells": [
  {
   "cell_type": "code",
   "execution_count": 9,
   "id": "8ab741bf",
   "metadata": {},
   "outputs": [],
   "source": [
    "class MaxHeap:\n",
    "    List = []\n",
    "\n",
    "    def insert(number):\n",
    "        List.append(number)\n",
    "        \n",
    "    def delete(number):\n",
    "        List.remove(number)\n",
    "        \n",
    "    def get_max():\n",
    "        Max = 0\n",
    "        for i in List:\n",
    "            if i>Max:\n",
    "                Max = i\n",
    "        return Max"
   ]
  },
  {
   "cell_type": "code",
   "execution_count": 14,
   "id": "fe493678",
   "metadata": {},
   "outputs": [
    {
     "name": "stdout",
     "output_type": "stream",
     "text": [
      "144\n"
     ]
    }
   ],
   "source": [
    "def get_fibonacci(n):\n",
    "    Sum = 1\n",
    "    series = [1]\n",
    "    for i in range(n):\n",
    "        series.append(Sum)\n",
    "        Sum+=series[i]\n",
    "    return Sum     "
   ]
  },
  {
   "cell_type": "code",
   "execution_count": 17,
   "id": "05808147",
   "metadata": {},
   "outputs": [],
   "source": [
    "def division(dividend, divisor):\n",
    "    if divisor == 0:\n",
    "        return \"Cannot divide by zero!\"\n",
    "    else:\n",
    "        return dividend/divisor\n",
    "    "
   ]
  },
  {
   "cell_type": "code",
   "execution_count": 23,
   "id": "2641b180",
   "metadata": {},
   "outputs": [],
   "source": [
    "def calculator(num1,operation,num2):\n",
    "    if operation == \"+\":\n",
    "        return num1+num2\n",
    "    elif operation == \"-\":\n",
    "        return num1-num2\n",
    "    elif operation == \"*\":\n",
    "        return num1*num2\n",
    "    elif operation == \"/\":\n",
    "        return num1/num2\n",
    "    else:\n",
    "        \"not a correct operator\"\n"
   ]
  },
  {
   "cell_type": "code",
   "execution_count": 59,
   "id": "cfe35c1a",
   "metadata": {},
   "outputs": [],
   "source": [
    "import random as rd\n",
    "\n",
    "def random_password_generator():\n",
    "    length = rd.randint(8,20)\n",
    "    password = []\n",
    "    Final = \"\"\n",
    "    Choice = [\"Uppercase\",\"Lowercase\",\"numbers\",\"special characters\"]\n",
    "    for i in range(length):\n",
    "        choice = rd.choice(Choice)\n",
    "        if choice == \"Uppercase\":\n",
    "            password.append(chr(rd.randint(65,90)))\n",
    "        elif choice == \"Lowercase\":\n",
    "            password.append(chr(rd.randint(97,122)))\n",
    "        elif choice == \"numbers\":\n",
    "            password.append(chr(rd.randint(48,57)))\n",
    "        else:\n",
    "            password.append(chr(rd.randint(33,47)) or chr(rd.randint(58,64)) or chr(rd.randint(91,96)) or chr(rd.randint(123,126)))\n",
    "    for j in password:\n",
    "        Final+=j\n",
    "    return Final"
   ]
  },
  {
   "cell_type": "code",
   "execution_count": 80,
   "id": "cdce9d6f",
   "metadata": {},
   "outputs": [
    {
     "name": "stdout",
     "output_type": "stream",
     "text": [
      "[[1 4]\n",
      " [2 5]\n",
      " [3 6]]\n"
     ]
    }
   ],
   "source": [
    "import numpy as np\n",
    "\n",
    "def transpose(matrix):\n",
    "    new_matrix = []\n",
    "    for i in range(matrix.shape[1]):\n",
    "        for j in range(matrix.shape[0]):\n",
    "            new_matrix.append(matrix[j][i])\n",
    "    Final = np.array(new_matrix)\n",
    "    Final = Final.reshape(matrix.shape[1],matrix.shape[0])\n",
    "    return Final"
   ]
  },
  {
   "cell_type": "code",
   "execution_count": null,
   "id": "f70d38e0",
   "metadata": {},
   "outputs": [],
   "source": [
    "def download()"
   ]
  }
 ],
 "metadata": {
  "kernelspec": {
   "display_name": "Python 3 (ipykernel)",
   "language": "python",
   "name": "python3"
  },
  "language_info": {
   "codemirror_mode": {
    "name": "ipython",
    "version": 3
   },
   "file_extension": ".py",
   "mimetype": "text/x-python",
   "name": "python",
   "nbconvert_exporter": "python",
   "pygments_lexer": "ipython3",
   "version": "3.9.12"
  }
 },
 "nbformat": 4,
 "nbformat_minor": 5
}
